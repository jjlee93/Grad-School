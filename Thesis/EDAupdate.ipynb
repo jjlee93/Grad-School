{
 "cells": [
  {
   "cell_type": "code",
   "execution_count": null,
   "id": "91a8ec60",
   "metadata": {},
   "outputs": [],
   "source": [
    "import pandas as pd\n",
    "import numpy as np\n",
    "import datetime\n",
    "import matplotlib.pyplot as plt\n",
    "import pickle\n",
    "from scipy.stats import mode\n",
    "%matplotlib inline\n",
    "pd.set_option('display.max_columns', None)"
   ]
  },
  {
   "cell_type": "code",
   "execution_count": null,
   "id": "acd98eb4",
   "metadata": {},
   "outputs": [],
   "source": [
    "from tqdm import tqdm_notebook\n",
    "import random\n",
    "pd.set_option('display.max_columns', None)"
   ]
  },
  {
   "cell_type": "code",
   "execution_count": null,
   "id": "56016dbe",
   "metadata": {},
   "outputs": [],
   "source": [
    "KR_data = pd.read_csv(\"../Data/preprocessed_data(New collar).csv\")\n",
    "US_data = pd.read_csv(\"../Data/preprocessed_data(US New collar).csv\")\n",
    "# US_data2 = pd.read_csv(\"../Data/preprocessed_data(US New collar w_Partcpt15).csv\")"
   ]
  },
  {
   "cell_type": "code",
   "execution_count": null,
   "id": "c1f7d07c",
   "metadata": {},
   "outputs": [],
   "source": [
    "US_data"
   ]
  },
  {
   "cell_type": "code",
   "execution_count": null,
   "id": "2dce0d06",
   "metadata": {},
   "outputs": [],
   "source": [
    "# # US_data1.drop(index=US_data1[(US_data1['RowID']=='0_12_26')|(US_data1['RowID']=='0_12_42')|(US_data1['RowID']=='0_12_43')].index,inplace=True)\n",
    "# US_data.drop(index=US_data[(US_data['RowID']=='0_12_26')|(US_data['RowID']=='0_12_42')|(US_data['RowID']=='0_12_43')].index,inplace=True)\n",
    "# # US_data1.reset_index(drop=True,inplace=True)\n",
    "# US_data.reset_index(drop=True,inplace=True)\n",
    "# # US_data1 = US_data1.fillna(0)\n",
    "# US_data = US_data.fillna(0)"
   ]
  },
  {
   "cell_type": "code",
   "execution_count": null,
   "id": "ba43f252",
   "metadata": {},
   "outputs": [],
   "source": [
    "US_data.drop(index=US_data[(US_data['RowID']=='0_12_26')|(US_data['RowID']=='0_12_42')|(US_data['RowID']=='0_12_43')].index,inplace=True)\n",
    "US_data.reset_index(drop=True,inplace=True)\n",
    "# fill NA value\n",
    "KR_data['arc']=KR_data['arc'].fillna(KR_data['chord'])\n",
    "US_data['arc']=US_data['arc'].fillna(US_data['chord'])\n",
    "\n",
    "# KR_data=pd.concat([KR_data,pd.get_dummies(KR_data['sound category'])],axis=1)\n",
    "# KR_data=pd.concat([KR_data,pd.get_dummies(KR_data['orientation_cat'])],axis=1)\n",
    "# US_data=pd.concat([US_data,pd.get_dummies(US_data['sound category'])],axis=1)\n",
    "# US_data=pd.concat([US_data,pd.get_dummies(US_data['orientation_cat'])],axis=1)\n",
    "# KR_rowID_list = np.array(KR_data['RowID'].drop_duplicates())\n",
    "# US_rowID_list = np.array(US_data['RowID'].drop_duplicates())\n",
    "# rowID_list=np.concatenate((KR_rowID_list,US_rowID_list))\n",
    "\n",
    "scale_list_X=list(KR_data[KR_data['accX']>20]['RowID'].unique())\n",
    "scale_value_X=[]\n",
    "for i in scale_list_X:\n",
    "    scale_value_X.append(KR_data[KR_data['RowID']==i][KR_data[KR_data['RowID']==i]['accX']>20]['accX'].describe()[1])\n",
    "scale_list_Y=list(KR_data[KR_data['accY']>20]['RowID'].unique())\n",
    "scale_value_Y=[]\n",
    "for j in scale_list_Y:\n",
    "    scale_value_Y.append(KR_data[KR_data['RowID']==i][KR_data[KR_data['RowID']==i]['accY']>20]['accY'].describe()[1])\n",
    "scale_list_Z=list(KR_data[KR_data['accZ']>20]['RowID'].unique())\n",
    "scale_value_Z=[]\n",
    "for i in scale_list_Z:\n",
    "    scale_value_Z.append(KR_data[KR_data['RowID']==i][KR_data[KR_data['RowID']==i]['accZ']>20]['accZ'].describe()[1])\n",
    "Index_X=KR_data[KR_data['accX']>20].index\n",
    "Index_Y=KR_data[KR_data['accY']>20].index\n",
    "Index_Z=KR_data[KR_data['accZ']>20].index\n",
    "\n",
    "KR_data = KR_data.to_records(index=False)\n",
    "\n",
    "for i in tqdm_notebook(Index_X):\n",
    "    point=scale_list_X.index(KR_data['RowID'][i])\n",
    "    KR_data['accX'][i]=round(KR_data['accX'][i]-scale_value_X[point],2)\n",
    "for j in tqdm_notebook(Index_Y):\n",
    "    point=scale_list_Y.index(KR_data['RowID'][j])\n",
    "    KR_data['accY'][j]=round(KR_data['accY'][j]-scale_value_Y[point],2)\n",
    "for k in tqdm_notebook(Index_Z):\n",
    "    point=scale_list_Z.index(KR_data['RowID'][k])\n",
    "    KR_data['accZ'][k]=round(KR_data['accZ'][k]-scale_value_Z[point],2)\n",
    "    \n",
    "KR_data=pd.DataFrame(KR_data)"
   ]
  },
  {
   "cell_type": "code",
   "execution_count": null,
   "id": "f8342e84",
   "metadata": {},
   "outputs": [],
   "source": [
    "US"
   ]
  },
  {
   "cell_type": "code",
   "execution_count": null,
   "id": "e4c86135",
   "metadata": {},
   "outputs": [],
   "source": [
    "KR_data=pd.DataFrame(KR_data)"
   ]
  },
  {
   "cell_type": "code",
   "execution_count": null,
   "id": "a78e23bc",
   "metadata": {},
   "outputs": [],
   "source": [
    "KR_data=KR_data.replace('TV / Radio', 'Media')\n",
    "US_data=US_data.replace('TV / Radio', 'Media')"
   ]
  },
  {
   "cell_type": "markdown",
   "id": "6de282df",
   "metadata": {},
   "source": [
    "# Features"
   ]
  },
  {
   "cell_type": "code",
   "execution_count": null,
   "id": "4cc339f0",
   "metadata": {},
   "outputs": [],
   "source": [
    "KR_data.columns"
   ]
  },
  {
   "cell_type": "markdown",
   "id": "0e24543b",
   "metadata": {},
   "source": [
    "# Number of Data"
   ]
  },
  {
   "cell_type": "code",
   "execution_count": null,
   "id": "9355b218",
   "metadata": {},
   "outputs": [],
   "source": [
    "print('KR : ',len(KR_data))\n",
    "# print('US1 : ',len(US_data1))\n",
    "print('US : ',len(US_data))\n",
    "# print('KR + US1 : ',len(KR_data)+len(US_data1))\n",
    "print('KR + US : ',len(KR_data)+len(US_data))"
   ]
  },
  {
   "cell_type": "markdown",
   "id": "2341dfa8",
   "metadata": {},
   "source": [
    "# Number of Interactions"
   ]
  },
  {
   "cell_type": "code",
   "execution_count": null,
   "id": "ff2abec4",
   "metadata": {},
   "outputs": [],
   "source": [
    "print(\"KR : \",len(KR_data['RowID'].unique()))\n",
    "# print(\"US1 : \",len(US_data1['RowID'].unique()))\n",
    "print(\"US : \",len(US_data['RowID'].unique()))\n",
    "# print(\"KR + US1 : \",len(KR_data['RowID'].unique())+len(US_data1['RowID'].unique()))\n",
    "print(\"KR + US : \",len(KR_data['RowID'].unique())+len(US_data['RowID'].unique()))"
   ]
  },
  {
   "cell_type": "markdown",
   "id": "e7b2511e",
   "metadata": {},
   "source": [
    "# Number of Participants"
   ]
  },
  {
   "cell_type": "code",
   "execution_count": null,
   "id": "cadac8c9",
   "metadata": {
    "scrolled": true
   },
   "outputs": [],
   "source": [
    "KR_participant=[]\n",
    "# US_participant1=[]\n",
    "US_participant=[]\n",
    "for i in KR_data['RowID'].unique() :\n",
    "    KR_participant.append(int(i.split(\"_\")[1]))\n",
    "    KR_participant=list(set(KR_participant))\n",
    "# for j in US_data1['RowID'].unique() :\n",
    "#     US_participant1.append(int(j.split(\"_\")[1]))\n",
    "#     US_participant1=list(set(US_participant1))\n",
    "for k in US_data['RowID'].unique() :\n",
    "    US_participant.append(int(k.split(\"_\")[1]))\n",
    "    US_participant=list(set(US_participant))"
   ]
  },
  {
   "cell_type": "code",
   "execution_count": null,
   "id": "99b655c2",
   "metadata": {},
   "outputs": [],
   "source": [
    "print(KR_participant)\n",
    "# print(US_participant1)\n",
    "print(US_participant)\n",
    "print(\"KR Participant : \",len(KR_participant))\n",
    "# print(\"US Participant1 : \",len(US_participant1))\n",
    "print(\"US Participant : \",len(US_participant))\n",
    "# print(\"KR + US1 Participant : \",len(KR_participant)+len(US_participant1))\n",
    "print(\"KR + US Participant : \",len(KR_participant)+len(US_participant))"
   ]
  },
  {
   "cell_type": "markdown",
   "id": "131642a4",
   "metadata": {},
   "source": [
    "# Experiment Time"
   ]
  },
  {
   "cell_type": "code",
   "execution_count": null,
   "id": "60263a7b",
   "metadata": {},
   "outputs": [],
   "source": [
    "print(\"KR : \",len(KR_data['RowID'].unique())*15/60,'hours')\n",
    "# print(\"US1 : \",len(US_data1['RowID'].unique())*15/60,'hours')\n",
    "print(\"US : \",len(US_data['RowID'].unique())*15/60,'hours')\n",
    "# print(\"KR + US1: \",len(KR_data['RowID'].unique())*15/60+len(US_data1['RowID'].unique())*15/60,'hours')\n",
    "print(\"KR + US: \",len(KR_data['RowID'].unique())*15/60+len(US_data['RowID'].unique())*15/60,'hours')"
   ]
  },
  {
   "cell_type": "markdown",
   "id": "f161c39b",
   "metadata": {},
   "source": [
    "# Modality Ratio"
   ]
  },
  {
   "cell_type": "code",
   "execution_count": null,
   "id": "7e18f2ce",
   "metadata": {},
   "outputs": [],
   "source": [
    "KR_data['country_number']=1\n",
    "# US_data1['country_number']=0\n",
    "US_data['country_number']=0"
   ]
  },
  {
   "cell_type": "code",
   "execution_count": null,
   "id": "fbadb453",
   "metadata": {},
   "outputs": [],
   "source": [
    "# Total1=pd.concat([KR_data,US_data1])\n",
    "Total=pd.concat([KR_data,US_data])"
   ]
  },
  {
   "cell_type": "code",
   "execution_count": null,
   "id": "1f4a31e2",
   "metadata": {},
   "outputs": [],
   "source": [
    "# Total1['count']=1\n",
    "Total['count']=1"
   ]
  },
  {
   "cell_type": "code",
   "execution_count": null,
   "id": "034fbf3a",
   "metadata": {},
   "outputs": [],
   "source": [
    "# Total1_count=Total1.drop_duplicates(['RowID'], keep='first')\n",
    "Total_count=Total.drop_duplicates(['RowID'], keep='first')"
   ]
  },
  {
   "cell_type": "code",
   "execution_count": null,
   "id": "9b0f0cbc",
   "metadata": {},
   "outputs": [],
   "source": [
    "# Total1_count=Total1_count.groupby(['country_number','Modality'],as_index=False).sum()\n",
    "Total_count=Total_count.groupby(['country_number','Modality'],as_index=False).sum()"
   ]
  },
  {
   "cell_type": "code",
   "execution_count": null,
   "id": "1b498431",
   "metadata": {},
   "outputs": [],
   "source": [
    "# Total1_count[Total1_count['country_number']==0][['Modality','count']]"
   ]
  },
  {
   "cell_type": "code",
   "execution_count": null,
   "id": "1fcb570b",
   "metadata": {},
   "outputs": [],
   "source": [
    "# plt.figure(figsize=(7,7))\n",
    "# plt.pie(Total1_count[Total1_count['country_number']==0]['count'], labels=Total1_count[Total1_count['country_number']==0]['Modality'], autopct='%.1f%%', startangle=260, counterclock=False, explode =[0.01, 0.01, 0.01, 0.05, 0.01, 0.05,0.01])\n",
    "# plt.title(\"US\")\n",
    "# plt.show()"
   ]
  },
  {
   "cell_type": "code",
   "execution_count": null,
   "id": "153865c8",
   "metadata": {},
   "outputs": [],
   "source": [
    "# Total1_count[Total1_count['country_number']==1][['Modality','count']]"
   ]
  },
  {
   "cell_type": "code",
   "execution_count": null,
   "id": "0d00ded8",
   "metadata": {},
   "outputs": [],
   "source": [
    "Total_count[Total_count['country_number']==0][['Modality','count']]"
   ]
  },
  {
   "cell_type": "code",
   "execution_count": null,
   "id": "67597a21",
   "metadata": {},
   "outputs": [],
   "source": [
    "225/60, 585/60, 1740/60, 1770/60, 495/60, 405/60, 240/60"
   ]
  },
  {
   "cell_type": "code",
   "execution_count": null,
   "id": "117da06b",
   "metadata": {},
   "outputs": [],
   "source": [
    "Total_count[Total_count['country_number']==0]['count']"
   ]
  },
  {
   "cell_type": "code",
   "execution_count": null,
   "id": "4d7f29c5",
   "metadata": {},
   "outputs": [],
   "source": [
    "plt.figure(figsize=(10,10))\n",
    "plt.pie(Total_count[Total_count['country_number']==0]['count'], labels=Total_count[Total_count['country_number']==0]['Modality'], autopct='%.1f%%', startangle=260, counterclock=False, explode =[0.01, 0.01, 0.01, 0.05, 0.01, 0.05,0.01])\n",
    "plt.title(\"US\")\n",
    "plt.show()"
   ]
  },
  {
   "cell_type": "code",
   "execution_count": null,
   "id": "cc3cd139",
   "metadata": {},
   "outputs": [],
   "source": [
    "plt.figure(figsize=(10,10))\n",
    "plt.pie(Total_count[Total_count['country_number']==1]['count'], labels=Total_count[Total_count['country_number']==1]['Modality'], autopct='%.1f%%', startangle=260, counterclock=False, explode =[0.01, 0.01, 0.01, 0.05, 0.01, 0.05,0.01])\n",
    "plt.title(\"KR\")\n",
    "plt.show()"
   ]
  },
  {
   "cell_type": "code",
   "execution_count": null,
   "id": "8e089b17",
   "metadata": {},
   "outputs": [],
   "source": [
    "plt.figure(figsize=(7,7))\n",
    "plt.pie(Total_count[Total_count['country_number']==1]['count'], labels=Total_count[Total_count['country_number']==1]['Modality'], autopct='%.1f%%', startangle=260, counterclock=False, explode =[0.01, 0.01, 0.01, 0.05, 0.01, 0.05,0.01])\n",
    "plt.title(\"KR\")\n",
    "plt.show()"
   ]
  },
  {
   "cell_type": "markdown",
   "id": "52254c33",
   "metadata": {},
   "source": [
    "# Sound Ratio"
   ]
  },
  {
   "cell_type": "markdown",
   "id": "623db86c",
   "metadata": {},
   "source": [
    "### US"
   ]
  },
  {
   "cell_type": "code",
   "execution_count": null,
   "id": "9cd19c08",
   "metadata": {
    "scrolled": false
   },
   "outputs": [],
   "source": [
    "ratio = Total[Total['country_number']==0]['sound category'].value_counts()\n",
    "labels = Total[Total['country_number']==0]['sound category'].value_counts().index\n",
    "explode = [0.05, 0.05, 0.05]\n",
    "colors = ['#ff9999', '#ffc000', '#8fd9b6']   #d395d0': 연보라 / #8fd9b6 : 연두 / #ffc000 : 노랑 / #ff9999 : 분홍\n",
    "wedgeprops={'width': 0.7, 'edgecolor': 'w', 'linewidth': 5}\n",
    "plt.figure(figsize=(10,10))\n",
    "plt.pie(ratio, labels=labels, autopct='%.1f%%',explode = explode, shadow=True, colors = colors, wedgeprops=wedgeprops)\n",
    "plt.title(\"US - Sound Ratio\")\n",
    "plt.show()"
   ]
  },
  {
   "cell_type": "code",
   "execution_count": null,
   "id": "b6d4db9b",
   "metadata": {},
   "outputs": [],
   "source": [
    "Total_sound=Total.groupby(['country_number','Modality','sound category'],as_index=False).sum()"
   ]
  },
  {
   "cell_type": "code",
   "execution_count": null,
   "id": "5a34d3f0",
   "metadata": {},
   "outputs": [],
   "source": [
    "Total_sound[(Total_sound['country_number']==0) & (Total_sound['sound category']=='Quiet')]"
   ]
  },
  {
   "cell_type": "markdown",
   "id": "b27f9398",
   "metadata": {},
   "source": [
    "#### Quiet Ratio"
   ]
  },
  {
   "cell_type": "code",
   "execution_count": null,
   "id": "1bae1c00",
   "metadata": {},
   "outputs": [],
   "source": [
    "ratio = Total_sound[(Total_sound['country_number']==0) & (Total_sound['sound category']=='Quiet')]['count']\n",
    "labels = Total_sound[(Total_sound['country_number']==0) & (Total_sound['sound category']=='Quiet')]['Modality']\n",
    "explode = [0.05, 0.05, 0.05,0.05, 0.05, 0.05, 0.05]\n",
    "# colors = ['#ff9999', '#ffc000', '#8fd9b6']   #d395d0': 연보라 / #8fd9b6 : 연두 / #ffc000 : 노랑 / #ff9999 : 분홍\n",
    "wedgeprops={'width': 0.7, 'edgecolor': 'w', 'linewidth': 5}\n",
    "plt.figure(figsize=(6,6))\n",
    "plt.pie(ratio, labels=labels, autopct='%.1f%%',explode = explode, shadow=True, wedgeprops=wedgeprops)\n",
    "plt.title(\"US - Quiet Ratio\")\n",
    "plt.show()"
   ]
  },
  {
   "cell_type": "markdown",
   "id": "48911ab9",
   "metadata": {},
   "source": [
    "#### Moderate Ratio"
   ]
  },
  {
   "cell_type": "code",
   "execution_count": null,
   "id": "82f353fe",
   "metadata": {},
   "outputs": [],
   "source": [
    "ratio = Total_sound[(Total_sound['country_number']==0) & (Total_sound['sound category']=='Moderate')]['count']\n",
    "labels = Total_sound[(Total_sound['country_number']==0) & (Total_sound['sound category']=='Moderate')]['Modality']\n",
    "explode = [0.05, 0.05, 0.05,0.05, 0.05, 0.05, 0.05]\n",
    "# colors = ['#ff9999', '#ffc000', '#8fd9b6']   #d395d0': 연보라 / #8fd9b6 : 연두 / #ffc000 : 노랑 / #ff9999 : 분홍\n",
    "wedgeprops={'width': 0.7, 'edgecolor': 'w', 'linewidth': 5}\n",
    "plt.figure(figsize=(4,4))\n",
    "plt.pie(ratio, labels=labels, autopct='%.1f%%',explode = explode, shadow=True, wedgeprops=wedgeprops)\n",
    "plt.title(\"US - Moderate Ratio\")\n",
    "plt.show()"
   ]
  },
  {
   "cell_type": "markdown",
   "id": "47c16752",
   "metadata": {},
   "source": [
    "#### Loud Ratio"
   ]
  },
  {
   "cell_type": "code",
   "execution_count": null,
   "id": "ac6d5404",
   "metadata": {},
   "outputs": [],
   "source": [
    "ratio = Total_sound[(Total_sound['country_number']==0) & (Total_sound['sound category']=='Loud')]['count']\n",
    "labels = Total_sound[(Total_sound['country_number']==0) & (Total_sound['sound category']=='Loud')]['Modality']\n",
    "explode = [0.05, 0.05, 0.05,0.05, 0.05, 0.05]\n",
    "colors = ['#1f77b4','#ff7f0e','#d62728','#9467bd','#8c564b','#e377c2']   \n",
    "#'#d62728' : 빨강 /'#ff7f0e': 주황 /'#1f77b4': 파랑 /'#e377c2' : 진핑크 /'#8c564b' : 갈색 /'#9467bd' : 진보라\n",
    "#d395d0': 연보라 / #8fd9b6 : 연두 / #ffc000 : 노랑 / #ff9999 : 분홍\n",
    "wedgeprops={'width': 0.7, 'edgecolor': 'w', 'linewidth': 5}\n",
    "plt.figure(figsize=(3,3))\n",
    "plt.pie(ratio, labels=labels, autopct='%.1f%%',explode = explode, colors=colors,shadow=True, wedgeprops=wedgeprops)\n",
    "plt.title(\"US - Loud Ratio\")\n",
    "plt.show()"
   ]
  },
  {
   "cell_type": "markdown",
   "id": "41bcb267",
   "metadata": {},
   "source": [
    "### KR"
   ]
  },
  {
   "cell_type": "code",
   "execution_count": null,
   "id": "dac9838f",
   "metadata": {},
   "outputs": [],
   "source": [
    "ratio = Total[Total['country_number']==1]['sound category'].value_counts()\n",
    "labels = Total[Total['country_number']==1]['sound category'].value_counts().index\n",
    "explode = [0.05, 0.05, 0.05]\n",
    "colors = ['#ff9999', '#ffc000', '#8fd9b6']   #d395d0': 연보라 / #8fd9b6 : 연두 / #ffc000 : 노랑 / #ff9999 : 분홍\n",
    "wedgeprops={'width': 0.7, 'edgecolor': 'w', 'linewidth': 5}\n",
    "plt.figure(figsize=(10,10))\n",
    "plt.pie(ratio, labels=labels, autopct='%.1f%%',explode = explode, shadow=True, colors = colors, wedgeprops=wedgeprops)\n",
    "plt.title(\"KR - Sound Ratio\")\n",
    "plt.show()"
   ]
  },
  {
   "cell_type": "markdown",
   "id": "4f2f8751",
   "metadata": {},
   "source": [
    "#### Quiet Ratio"
   ]
  },
  {
   "cell_type": "code",
   "execution_count": null,
   "id": "a9414952",
   "metadata": {},
   "outputs": [],
   "source": [
    "ratio = Total_sound[(Total_sound['country_number']==1) & (Total_sound['sound category']=='Quiet')]['count']\n",
    "labels = Total_sound[(Total_sound['country_number']==1) & (Total_sound['sound category']=='Quiet')]['Modality']\n",
    "explode = [0.05, 0.05, 0.05,0.05, 0.05, 0.05, 0.05]\n",
    "# colors = ['#ff9999', '#ffc000', '#8fd9b6']   #d395d0': 연보라 / #8fd9b6 : 연두 / #ffc000 : 노랑 / #ff9999 : 분홍\n",
    "wedgeprops={'width': 0.7, 'edgecolor': 'w', 'linewidth': 5}\n",
    "plt.figure(figsize=(6,6))\n",
    "plt.pie(ratio, labels=labels, autopct='%.1f%%',explode = explode, shadow=True, wedgeprops=wedgeprops)\n",
    "plt.title(\"KR - Quiet Ratio\")\n",
    "plt.show()"
   ]
  },
  {
   "cell_type": "markdown",
   "id": "fda10165",
   "metadata": {},
   "source": [
    "#### Moderate Ratio"
   ]
  },
  {
   "cell_type": "code",
   "execution_count": null,
   "id": "317b5f9e",
   "metadata": {},
   "outputs": [],
   "source": [
    "ratio = Total_sound[(Total_sound['country_number']==1) & (Total_sound['sound category']=='Moderate')]['count']\n",
    "labels = Total_sound[(Total_sound['country_number']==1) & (Total_sound['sound category']=='Moderate')]['Modality']\n",
    "explode = [0.05, 0.05, 0.05,0.05, 0.05, 0.05, 0.05]\n",
    "# colors = ['#ff9999', '#ffc000', '#8fd9b6']   #d395d0': 연보라 / #8fd9b6 : 연두 / #ffc000 : 노랑 / #ff9999 : 분홍\n",
    "wedgeprops={'width': 0.7, 'edgecolor': 'w', 'linewidth': 5}\n",
    "plt.figure(figsize=(4,4))\n",
    "plt.pie(ratio, labels=labels, autopct='%.1f%%',explode = explode, shadow=True, wedgeprops=wedgeprops)\n",
    "plt.title(\"US - Moderate Ratio\")\n",
    "plt.show()"
   ]
  },
  {
   "cell_type": "markdown",
   "id": "8fe8ffa3",
   "metadata": {},
   "source": [
    "#### Loud Ratio"
   ]
  },
  {
   "cell_type": "code",
   "execution_count": null,
   "id": "6caba862",
   "metadata": {},
   "outputs": [],
   "source": [
    "ratio = Total_sound[(Total_sound['country_number']==1) & (Total_sound['sound category']=='Loud')]['count']\n",
    "labels = Total_sound[(Total_sound['country_number']==1) & (Total_sound['sound category']=='Loud')]['Modality']\n",
    "explode = [0.05, 0.05, 0.05,0.05, 0.05, 0.05, 0.05]\n",
    "colors = ['#1f77b4','#ff7f0e','#2ca02c','#d62728','#9467bd','#8c564b','#e377c2']   \n",
    "#'#d62728' : 빨강 /'#ff7f0e': 주황 /'#1f77b4': 파랑 /'#e377c2' : 진핑크 /'#8c564b' : 갈색 /'#9467bd' : 진보라\n",
    "#d395d0': 연보라 / #8fd9b6 : 연두 / #ffc000 : 노랑 / #ff9999 : 분홍\n",
    "wedgeprops={'width': 0.7, 'edgecolor': 'w', 'linewidth': 5}\n",
    "plt.figure(figsize=(3,3))\n",
    "plt.pie(ratio, labels=labels, autopct='%.1f%%',explode = explode, colors=colors,shadow=True, wedgeprops=wedgeprops)\n",
    "plt.title(\"US - Loud Ratio\")\n",
    "plt.show()"
   ]
  },
  {
   "cell_type": "code",
   "execution_count": null,
   "id": "f01bcb94",
   "metadata": {},
   "outputs": [],
   "source": [
    "Total"
   ]
  },
  {
   "cell_type": "markdown",
   "id": "90b93330",
   "metadata": {},
   "source": [
    "# Time Window\n",
    "# Number of Data generated per second(s)"
   ]
  },
  {
   "cell_type": "code",
   "execution_count": null,
   "id": "ed397da5",
   "metadata": {},
   "outputs": [],
   "source": [
    "def sec(Data, second):\n",
    "    rowID_list= Data['RowID'].unique()\n",
    "    data = Data.to_records(index=False)\n",
    "    len_list=[]\n",
    "    \n",
    "    for rowID in rowID_list:\n",
    "        tmp_data = data[data['RowID'] == rowID]\n",
    "\n",
    "        idx = 0\n",
    "        cnt = 0\n",
    "\n",
    "        window_start = str(pd.to_datetime(tmp_data[idx]['Real_time']))\n",
    "        window_end = str(pd.to_datetime(window_start, infer_datetime_format=True) + pd.Timedelta(pd.offsets.Second(second)))\n",
    "\n",
    "        while idx != len(tmp_data)-1:\n",
    "    #         print(window_start, window_end)\n",
    "\n",
    "            for i in range(idx, len(tmp_data)):\n",
    "\n",
    "                if str(pd.to_datetime(tmp_data[i]['Real_time'])) >= window_start and str(pd.to_datetime(tmp_data[i]['Real_time'])) <= window_end:\n",
    "                    cnt += 1\n",
    "\n",
    "                elif str(pd.to_datetime(tmp_data[i]['Real_time'])) > window_end:\n",
    "                    len_list.append(cnt)\n",
    "                    idx = i\n",
    "                    cnt=0\n",
    "                    window_start = str(pd.to_datetime(tmp_data[idx]['Real_time']))\n",
    "                    window_end = str(pd.to_datetime(window_start, infer_datetime_format=True) + pd.Timedelta(pd.offsets.Second(second)))\n",
    "                    break\n",
    "\n",
    "                if i==len(tmp_data)-1:\n",
    "                    idx = i\n",
    "                    break\n",
    "    return len_list"
   ]
  },
  {
   "cell_type": "markdown",
   "id": "3c34415c",
   "metadata": {},
   "source": [
    "## create & save pickle file"
   ]
  },
  {
   "cell_type": "code",
   "execution_count": null,
   "id": "642c54f8",
   "metadata": {
    "scrolled": true
   },
   "outputs": [],
   "source": [
    "# KR_sec=[sec(KR_data,1),sec(KR_data,2),sec(KR_data,3),sec(KR_data,5),sec(KR_data,10)]\n",
    "# US_sec1=[sec(US_data1,1),sec(US_data1,2),sec(US_data1,3),sec(US_data1,5),sec(US_data1,10)]\n",
    "# US_sec2=[sec(US_data2,1),sec(US_data2,2),sec(US_data2,3),sec(US_data2,5),sec(US_data2,10)]"
   ]
  },
  {
   "cell_type": "code",
   "execution_count": null,
   "id": "4d7b5549",
   "metadata": {},
   "outputs": [],
   "source": [
    "# KR_sec_1=[sec(KR_data,20),sec(KR_data,30),sec(KR_data,60)]\n",
    "# US_sec1_1=[sec(US_data1,20),sec(US_data1,30),sec(US_data1,60)]\n",
    "# US_sec2_1=[sec(US_data2,20),sec(US_data2,30),sec(US_data2,60)]"
   ]
  },
  {
   "cell_type": "code",
   "execution_count": null,
   "id": "4476f137",
   "metadata": {},
   "outputs": [],
   "source": [
    "# with open('KR_sec.pkl','wb') as f:\n",
    "#     pickle.dump(KR_sec,f)\n",
    "# with open('KR_sec_1.pkl','wb') as f:\n",
    "#     pickle.dump(KR_sec_1,f)\n",
    "# with open('KR_sec_ALL.pkl','wb') as f:\n",
    "#     pickle.dump(test,f)\n",
    "    \n",
    "# with open('US_sec1.pkl','wb') as f:\n",
    "#     pickle.dump(US_sec1,f)\n",
    "# with open('US_sec1_1.pkl','wb') as f:\n",
    "#     pickle.dump(US_sec1_1,f)\n",
    "# with open('US_sec1_ALL.pkl','wb') as f:\n",
    "#     pickle.dump(test1,f)\n",
    "\n",
    "# with open('US_sec2.pkl','wb') as f:\n",
    "#     pickle.dump(US_sec2,f)\n",
    "# with open('US_sec2_1.pkl','wb') as f:\n",
    "#     pickle.dump(US_sec2_1,f)\n",
    "# with open('US_sec2_ALL.pkl','wb') as f:\n",
    "#     pickle.dump(test2,f)"
   ]
  },
  {
   "cell_type": "markdown",
   "id": "f35dc44a",
   "metadata": {},
   "source": [
    "## load pickle file"
   ]
  },
  {
   "cell_type": "code",
   "execution_count": null,
   "id": "a7322562",
   "metadata": {},
   "outputs": [],
   "source": [
    "with open(\"KR_sec_ALL.pkl\",'rb') as f:\n",
    "    KR_sec = pickle.load(f)\n",
    "# with open(\"US_sec1_ALL.pkl\",'rb') as f:\n",
    "#     US_sec1 = pickle.load(f)\n",
    "with open(\"US_sec1_ALL.pkl\",'rb') as f:\n",
    "    US_sec1 = pickle.load(f)"
   ]
  },
  {
   "cell_type": "code",
   "execution_count": null,
   "id": "2bfc1738",
   "metadata": {},
   "outputs": [],
   "source": [
    "test_time=['1sec','2sec', '3sec', '5sec','10sec', '20sec', '30sec', '60sec']"
   ]
  },
  {
   "cell_type": "code",
   "execution_count": null,
   "id": "ae385174",
   "metadata": {},
   "outputs": [],
   "source": [
    "print(\"US : 1sec / 2sec / 3sec / 5sec / 10sec / 20sec / 30sec / 60sec\")\n",
    "for i in range(len(US_sec1)) :\n",
    "    print('Mean : {} / Std : {} / Max : {} / Min : {} '.format(np.mean(US_sec1[i]), np.std(US_sec1[i]), max(US_sec1[i]), min(US_sec1[i])))\n"
   ]
  },
  {
   "cell_type": "code",
   "execution_count": null,
   "id": "68ac777a",
   "metadata": {},
   "outputs": [],
   "source": [
    "for i in range(len(US_sec1)) :\n",
    "    print(test_time[i])\n",
    "    print(pd.DataFrame(US_sec1[i],columns=[i])[i].value_counts())"
   ]
  },
  {
   "cell_type": "code",
   "execution_count": null,
   "id": "cba92447",
   "metadata": {},
   "outputs": [],
   "source": [
    "for i in range(len(US_sec1)) :\n",
    "    print(test_time[i])\n",
    "    print(mode(US_sec1[i]))"
   ]
  },
  {
   "cell_type": "code",
   "execution_count": null,
   "id": "b57c2671",
   "metadata": {
    "scrolled": true
   },
   "outputs": [],
   "source": [
    "for i in range(len(US_sec1)):\n",
    "    print(test_time[i])\n",
    "    plt.hist(US_sec1[i], histtype='bar', rwidth=.9)\n",
    "    # plt.xticks(np.arange(30, 60, 5))\n",
    "    plt.xlabel('# of row')\n",
    "    plt.ylabel('frequency')\n",
    "    plt.show()"
   ]
  },
  {
   "cell_type": "code",
   "execution_count": null,
   "id": "19701fb1",
   "metadata": {},
   "outputs": [],
   "source": [
    "print(\"KR : 1sec / 2sec / 3sec / 5sec / 10sec / 20sec / 30sec / 60sec\")\n",
    "for i in range(len(KR_sec)) :\n",
    "    print('Mean : {} / Std : {} / Max : {} / Min : {} '.format(np.mean(KR_sec[i]), np.std(KR_sec[i]), max(KR_sec[i]), min(KR_sec[i])))\n"
   ]
  },
  {
   "cell_type": "code",
   "execution_count": null,
   "id": "4459c418",
   "metadata": {},
   "outputs": [],
   "source": [
    "for i in range(len(KR_sec)) :\n",
    "    print(test_time[i])\n",
    "    print(pd.DataFrame(KR_sec[i],columns=[i])[i].value_counts())"
   ]
  },
  {
   "cell_type": "code",
   "execution_count": null,
   "id": "5ce7a287",
   "metadata": {},
   "outputs": [],
   "source": [
    "for i in range(len(KR_sec)) :\n",
    "    print(test_time[i])\n",
    "    print(mode(KR_sec[i]))"
   ]
  },
  {
   "cell_type": "code",
   "execution_count": null,
   "id": "a2a512b2",
   "metadata": {
    "scrolled": true
   },
   "outputs": [],
   "source": [
    "for i in range(len(KR_sec)):\n",
    "    print(test_time[i])\n",
    "    plt.hist(KR_sec[i], histtype='bar', rwidth=.9)\n",
    "    # plt.xticks(np.arange(30, 60, 5))\n",
    "    plt.xlabel('# of row')\n",
    "    plt.ylabel('frequency')\n",
    "    plt.show()"
   ]
  },
  {
   "cell_type": "code",
   "execution_count": null,
   "id": "0e42639c",
   "metadata": {},
   "outputs": [],
   "source": [
    "# with open('KR_sec.pkl','wb') as f:\n",
    "#     pickle.dump(KR_sec,f)\n",
    "# with open('KR_sec_1.pkl','wb') as f:\n",
    "#     pickle.dump(KR_sec_1,f)\n",
    "# with open('KR_sec_ALL.pkl','wb') as f:\n",
    "#     pickle.dump(test,f)\n",
    "    \n",
    "# with open('US_sec1.pkl','wb') as f:\n",
    "#     pickle.dump(US_sec1,f)\n",
    "# with open('US_sec1_1.pkl','wb') as f:\n",
    "#     pickle.dump(US_sec1_1,f)\n",
    "# with open('US_sec1_ALL.pkl','wb') as f:\n",
    "#     pickle.dump(test1,f)\n",
    "\n",
    "# with open('US_sec2.pkl','wb') as f:\n",
    "#     pickle.dump(US_sec2,f)\n",
    "# with open('US_sec2_1.pkl','wb') as f:\n",
    "#     pickle.dump(US_sec2_1,f)\n",
    "# with open('US_sec2_ALL.pkl','wb') as f:\n",
    "#     pickle.dump(test2,f)"
   ]
  },
  {
   "cell_type": "markdown",
   "id": "8a66957e",
   "metadata": {},
   "source": [
    "# Data Checking"
   ]
  },
  {
   "cell_type": "code",
   "execution_count": null,
   "id": "a8ea3c48",
   "metadata": {},
   "outputs": [],
   "source": []
  },
  {
   "cell_type": "markdown",
   "id": "87de4ce8",
   "metadata": {},
   "source": [
    "# Group Comparison"
   ]
  },
  {
   "cell_type": "code",
   "execution_count": null,
   "id": "c2bd3819",
   "metadata": {},
   "outputs": [],
   "source": [
    "KR_data.columns"
   ]
  },
  {
   "cell_type": "code",
   "execution_count": null,
   "id": "3a4033eb",
   "metadata": {},
   "outputs": [],
   "source": [
    "KR_data"
   ]
  },
  {
   "cell_type": "code",
   "execution_count": null,
   "id": "160a0629",
   "metadata": {},
   "outputs": [],
   "source": [
    "Modality_list=KR_data['Modality'].unique()\n"
   ]
  },
  {
   "cell_type": "code",
   "execution_count": null,
   "id": "0ed2b7dd",
   "metadata": {},
   "outputs": [],
   "source": [
    "Modality_list"
   ]
  },
  {
   "cell_type": "code",
   "execution_count": null,
   "id": "ea8b6082",
   "metadata": {},
   "outputs": [],
   "source": []
  },
  {
   "cell_type": "code",
   "execution_count": null,
   "id": "e90e6540",
   "metadata": {},
   "outputs": [],
   "source": [
    "for i in Modality_list:\n",
    "    temp_KR=KR_data[KR_data['Modality']==i]\n",
    "    temp_US1=US_data1[US_data1['Modality']==i]\n",
    "    temp_US2=US_data2[US_data2['Modality']==i]\n",
    "    \n",
    "    print(i)\n",
    "    temp_KR['RowID'].unique()\n",
    "    temp_US1['RowID'].unique()\n",
    "    temp_US2['RowID'].unique()\n",
    "    fig, ax = plt.subplots(2,3, figsize = (15,7))\n",
    "    \n",
    "    ax[0,0].plot(temp_KR['accX'])\n",
    "    ax[0,0].set_xlabel('Time')\n",
    "    ax[0,0].set_ylabel('Value')\n",
    "    ax[0,0].set_title(\"KR\")\n",
    "\n",
    "    ax[1,1].plot(temp_US1['accX'])\n",
    "    ax[1,1].set_xlabel('Time')\n",
    "    ax[1,1].set_ylabel('Value')\n",
    "    ax[1,1].set_title(\"US1\")\n",
    "    \n",
    "    ax[1,2].plot(temp_US2['accX'])\n",
    "    ax[1,2].set_xlabel('Time')\n",
    "    ax[1,2].set_ylabel('Value')\n",
    "    ax[1,2].set_title(\"US2\")\n",
    "    plt.show()"
   ]
  },
  {
   "cell_type": "code",
   "execution_count": null,
   "id": "0a965c73",
   "metadata": {},
   "outputs": [],
   "source": [
    "for id in rowID_list:\n",
    "    \n",
    "    temp = acc[acc['RowID'] == id]\n",
    "    print(id, np.unique(temp['Modality'])[0])\n",
    "    fig, ax = plt.subplots(2,3, figsize = (15,7))\n",
    "    \n",
    "    ax[0,0].plot(temp['accX'])\n",
    "    ax[0,0].set_xlabel('Time')\n",
    "    ax[0,0].set_ylabel('Value')\n",
    "    ax[0,0].set_title(\"acc X\")\n",
    "    \n",
    "    \n",
    "    ax[0,1].plot(temp['accY'])\n",
    "    ax[0,1].set_xlabel('Time')\n",
    "    ax[0,1].set_ylabel('Value')\n",
    "    ax[0,1].set_title(\"acc Y\")\n",
    "    \n",
    "    ax[0,2].plot(temp['accZ'])\n",
    "    ax[0,2].set_xlabel('Time')\n",
    "    ax[0,2].set_ylabel('Value')\n",
    "    ax[0,2].set_title(\"acc Z\")\n",
    "    \n",
    "    ax[1,0].plot(temp['diff_x'])\n",
    "    ax[1,0].set_xlabel('Time')\n",
    "    ax[1,0].set_ylabel('Value')\n",
    "    ax[1,0].set_title(\"Difference X\")\n",
    "    \n",
    "    ax[1,1].plot(temp['diff_y'])\n",
    "    ax[1,1].set_xlabel('Time')\n",
    "    ax[1,1].set_ylabel('Value')\n",
    "    ax[1,1].set_title(\"Difference Y\")\n",
    "    \n",
    "    ax[1,2].plot(temp['diff_z'])\n",
    "    ax[1,2].set_xlabel('Time')\n",
    "    ax[1,2].set_ylabel('Value')\n",
    "    ax[1,2].set_title(\"Difference Z\")\n",
    "    \n",
    "    plt.show()\n",
    "#     print(temp)\n",
    "#     break"
   ]
  },
  {
   "cell_type": "code",
   "execution_count": null,
   "id": "a98bd4d9",
   "metadata": {
    "scrolled": true
   },
   "outputs": [],
   "source": [
    "for i in KR_data['RowID'].unique():\n",
    "    for j in "
   ]
  },
  {
   "cell_type": "code",
   "execution_count": null,
   "id": "9b504b74",
   "metadata": {},
   "outputs": [],
   "source": [
    "KR_data[KR_data['Modality']==\"Moved It\"]['RowID'].unique()"
   ]
  },
  {
   "cell_type": "code",
   "execution_count": null,
   "id": "302103ad",
   "metadata": {},
   "outputs": [],
   "source": [
    "type(KR_data[KR_data['RowID']=='1_10_5']['Real_time'].iloc[-1])"
   ]
  },
  {
   "cell_type": "code",
   "execution_count": null,
   "id": "b7e03a40",
   "metadata": {},
   "outputs": [],
   "source": [
    "test=KR_data[KR_data['RowID']=='1_10_5']"
   ]
  },
  {
   "cell_type": "code",
   "execution_count": null,
   "id": "90ce5088",
   "metadata": {},
   "outputs": [],
   "source": [
    "test['Real_time']=pd.to_datetime(test['Real_time'], format=\"%Y-%m-%d %H:%M:%S\")"
   ]
  },
  {
   "cell_type": "code",
   "execution_count": null,
   "id": "1bae699e",
   "metadata": {},
   "outputs": [],
   "source": [
    "plt.plot(test['Real_time'],test['accX'])"
   ]
  },
  {
   "cell_type": "code",
   "execution_count": null,
   "id": "70c1a1f9",
   "metadata": {},
   "outputs": [],
   "source": [
    "test.iloc[0]"
   ]
  },
  {
   "cell_type": "code",
   "execution_count": null,
   "id": "1e10a90a",
   "metadata": {},
   "outputs": [],
   "source": [
    "test['Real_time'].index"
   ]
  },
  {
   "cell_type": "code",
   "execution_count": null,
   "id": "e0be2cb7",
   "metadata": {},
   "outputs": [],
   "source": [
    "test['Real_time'][28085]-test['Real_time'][test['Real_time'].index[0]]"
   ]
  },
  {
   "cell_type": "code",
   "execution_count": null,
   "id": "c0ec951d",
   "metadata": {
    "scrolled": true
   },
   "outputs": [],
   "source": [
    "for i in test['Real_time'].index:\n",
    "    test['Real_time'][i]=\n",
    "#     test['Real_time'][i]=test['Real_time'][i]-test['Real_time'][test['Real_time'][test['Real_time'].index[0]]]"
   ]
  },
  {
   "cell_type": "code",
   "execution_count": null,
   "id": "9c654dd1",
   "metadata": {},
   "outputs": [],
   "source": [
    "test['Real_time']=test['Real_time']-test['Real_time'].iloc[0]"
   ]
  },
  {
   "cell_type": "code",
   "execution_count": null,
   "id": "1e412d28",
   "metadata": {},
   "outputs": [],
   "source": [
    "plt.plot(test['Real_time'],test['accX'])"
   ]
  },
  {
   "cell_type": "code",
   "execution_count": null,
   "id": "3d10b335",
   "metadata": {},
   "outputs": [],
   "source": [
    "datetime.timedelta(seconds=test['Real_time'])"
   ]
  },
  {
   "cell_type": "code",
   "execution_count": null,
   "id": "422a0a0d",
   "metadata": {},
   "outputs": [],
   "source": [
    "datetime.timedelta(seconds=test['Real_time'].iloc[0])"
   ]
  },
  {
   "cell_type": "code",
   "execution_count": null,
   "id": "82f44be7",
   "metadata": {},
   "outputs": [],
   "source": [
    "type(test['Real_time'].iloc[0])"
   ]
  },
  {
   "cell_type": "code",
   "execution_count": null,
   "id": "8be031c2",
   "metadata": {},
   "outputs": [],
   "source": [
    "pd.to_datetime(KR_data['Real_time'], format=\"%Y-%m-%d %H:%M:%S\")"
   ]
  },
  {
   "cell_type": "code",
   "execution_count": null,
   "id": "34287d02",
   "metadata": {},
   "outputs": [],
   "source": [
    "pd.to_datetime(KR_data[KR_data['RowID']=='1_10_5']['Real_time'], format=\"%Y-%m-%d %H:%M:%S\").iloc[20]-pd.to_datetime(KR_data[KR_data['RowID']=='1_10_5']['Real_time'], format=\"%Y-%m-%d %H:%M:%S\").iloc[0]"
   ]
  },
  {
   "cell_type": "code",
   "execution_count": null,
   "id": "c594e816",
   "metadata": {},
   "outputs": [],
   "source": [
    "KR_data[KR_data['RowID']=='1_10_5']['Real_time']"
   ]
  },
  {
   "cell_type": "code",
   "execution_count": null,
   "id": "f666b512",
   "metadata": {
    "scrolled": false
   },
   "outputs": [],
   "source": [
    "x_values=[0,1,2,3,4,5,6]\n",
    "for i in KR_data[KR_data['Modality']==\"Moved It\"]['RowID'].unique() :\n",
    "    \n",
    "    plt.plot(x_values,KR_data[KR_data['RowID']==i]['accX'])\n",
    "    plt.show()"
   ]
  },
  {
   "cell_type": "code",
   "execution_count": null,
   "id": "30de12c1",
   "metadata": {
    "scrolled": true
   },
   "outputs": [],
   "source": [
    "KR_data[KR_data['RowID']=='1_10_5']['accX']"
   ]
  },
  {
   "cell_type": "code",
   "execution_count": null,
   "id": "8d58a24d",
   "metadata": {},
   "outputs": [],
   "source": []
  },
  {
   "cell_type": "code",
   "execution_count": null,
   "id": "139fdc53",
   "metadata": {},
   "outputs": [],
   "source": []
  },
  {
   "cell_type": "code",
   "execution_count": null,
   "id": "631b0cbe",
   "metadata": {},
   "outputs": [],
   "source": []
  },
  {
   "cell_type": "code",
   "execution_count": null,
   "id": "b25127a7",
   "metadata": {},
   "outputs": [],
   "source": []
  },
  {
   "cell_type": "markdown",
   "id": "5f7c032b",
   "metadata": {},
   "source": [
    "# \"country prediction\" AND deep learning"
   ]
  },
  {
   "cell_type": "code",
   "execution_count": null,
   "id": "925f344b",
   "metadata": {},
   "outputs": [],
   "source": [
    "# ######### without participant 15 #########\n",
    "# print(\"US1 : 1sec / 2sec / 3sec / 5sec / 10sec / 20sec / 30sec / 60sec\")\n",
    "# for i in range(len(US_sec1)) :\n",
    "#     print('Mean : {} / Std : {} / Max : {} / Min : {} '.format(np.mean(US_sec1[i]), np.std(US_sec1[i]), max(US_sec1[i]), min(US_sec1[i])))\n",
    "# ################################################################################################################################################################################################\n",
    "# for i in range(len(US_sec1)) :\n",
    "#     print(test_time[i])\n",
    "#     print(pd.DataFrame(US_sec1[i],columns=[i])[i].value_counts())\n",
    "# ################################################################################################################################################################################################    \n",
    "# for i in range(len(US_sec1)) :\n",
    "#     print(test_time[i])\n",
    "#     print(mode(US_sec1[i]))\n",
    "# ################################################################################################################################################################################################    \n",
    "# for i in range(len(US_sec1)):\n",
    "#     print(test_time[i])\n",
    "#     plt.hist(US_sec1[i], histtype='bar', rwidth=.9)\n",
    "#     # plt.xticks(np.arange(30, 60, 5))\n",
    "#     plt.xlabel('# of row')\n",
    "#     plt.ylabel('frequency')\n",
    "#     plt.show()"
   ]
  },
  {
   "cell_type": "code",
   "execution_count": null,
   "id": "79dcba57",
   "metadata": {},
   "outputs": [],
   "source": []
  },
  {
   "cell_type": "code",
   "execution_count": null,
   "id": "592eb5f7",
   "metadata": {
    "scrolled": true
   },
   "outputs": [],
   "source": [
    "# KR_data['Real_time']=pd.to_datetime(KR_data['Real_time'], format=\"%Y-%m-%d %H:%M:%S\")\n",
    "# US_data1['Real_time']=pd.to_datetime(US_data1['Real_time'], format=\"%Y-%m-%d %H:%M:%S\")\n",
    "# US_data2['Real_time']=pd.to_datetime(US_data2['Real_time'], format=\"%Y-%m-%d %H:%M:%S\")"
   ]
  },
  {
   "cell_type": "code",
   "execution_count": null,
   "id": "f8c573a8",
   "metadata": {
    "scrolled": true
   },
   "outputs": [],
   "source": [
    "# KR_timecheck=[]\n",
    "# US_timecheck1=[]\n",
    "# US_timecheck2=[]\n",
    "# for i in KR_data['RowID'].unique():\n",
    "#     KR_timecheck.append(KR_data['Real_time'][KR_data[KR_data['RowID']==i].index[-1]]-KR_data['Real_time'][KR_data[KR_data['RowID']==i].index[0]])\n",
    "# for j in US_data1['RowID'].unique():\n",
    "#     US_timecheck1.append(US_data1['Real_time'][US_data1[US_data1['RowID']==j].index[-1]]-US_data1['Real_time'][US_data1[US_data1['RowID']==j].index[0]])\n",
    "# for k in US_data2['RowID'].unique():\n",
    "#     US_timecheck2.append(US_data2['Real_time'][US_data2[US_data2['RowID']==k].index[-1]]-US_data2['Real_time'][US_data2[US_data2['RowID']==k].index[0]])"
   ]
  }
 ],
 "metadata": {
  "kernelspec": {
   "display_name": "Python 3 (ipykernel)",
   "language": "python",
   "name": "python3"
  },
  "language_info": {
   "codemirror_mode": {
    "name": "ipython",
    "version": 3
   },
   "file_extension": ".py",
   "mimetype": "text/x-python",
   "name": "python",
   "nbconvert_exporter": "python",
   "pygments_lexer": "ipython3",
   "version": "3.7.13"
  }
 },
 "nbformat": 4,
 "nbformat_minor": 5
}
